{
  "nbformat": 4,
  "nbformat_minor": 0,
  "metadata": {
    "colab": {
      "provenance": [],
      "toc_visible": true,
      "authorship_tag": "ABX9TyNguG3rxuyvRwKvb2CD7dta",
      "include_colab_link": true
    },
    "kernelspec": {
      "name": "python3",
      "display_name": "Python 3"
    },
    "language_info": {
      "name": "python"
    }
  },
  "cells": [
    {
      "cell_type": "markdown",
      "metadata": {
        "id": "view-in-github",
        "colab_type": "text"
      },
      "source": [
        "<a href=\"https://colab.research.google.com/github/venkatsai2020/Flight_Delay_Predection/blob/venkat/Code/First_Colab_Code.ipynb\" target=\"_parent\"><img src=\"https://colab.research.google.com/assets/colab-badge.svg\" alt=\"Open In Colab\"/></a>"
      ]
    },
    {
      "cell_type": "code",
      "execution_count": null,
      "metadata": {
        "colab": {
          "base_uri": "https://localhost:8080/"
        },
        "id": "2_I0RH6amB6i",
        "outputId": "43d5f9f3-2ed5-4a40-b53d-7d9a4fbfa717"
      },
      "outputs": [
        {
          "output_type": "stream",
          "name": "stdout",
          "text": [
            "20\n"
          ]
        }
      ],
      "source": [
        "def add(a, b):\n",
        "  return a+b\n",
        "\n",
        "def sub(a, b):\n",
        "  return a-b\n",
        "\n",
        "def mul(a, b):\n",
        "  return a*b\n",
        "\n",
        "def div(a, b):\n",
        "  return a/b"
      ]
    }
  ]
}